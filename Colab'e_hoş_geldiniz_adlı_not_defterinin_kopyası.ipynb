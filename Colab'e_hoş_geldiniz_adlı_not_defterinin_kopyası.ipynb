{
  "cells": [
    {
      "cell_type": "markdown",
      "metadata": {
        "id": "view-in-github",
        "colab_type": "text"
      },
      "source": [
        "<a href=\"https://colab.research.google.com/github/aysenll/King-County-House-Sales/blob/main/Colab'e_ho%C5%9F_geldiniz_adl%C4%B1_not_defterinin_kopyas%C4%B1.ipynb\" target=\"_parent\"><img src=\"https://colab.research.google.com/assets/colab-badge.svg\" alt=\"Open In Colab\"/></a>"
      ]
    },
    {
      "cell_type": "code",
      "source": [
        "from google.colab import files\n",
        "uploaded = files.upload()"
      ],
      "metadata": {
        "colab": {
          "base_uri": "https://localhost:8080/",
          "height": 73
        },
        "id": "3ggzbuQweDge",
        "outputId": "76decc79-5249-475d-d48c-fd78e45cf317"
      },
      "execution_count": 18,
      "outputs": [
        {
          "output_type": "display_data",
          "data": {
            "text/plain": [
              "<IPython.core.display.HTML object>"
            ],
            "text/html": [
              "\n",
              "     <input type=\"file\" id=\"files-f0b9e07e-9630-4767-819b-d70286373aa5\" name=\"files[]\" multiple disabled\n",
              "        style=\"border:none\" />\n",
              "     <output id=\"result-f0b9e07e-9630-4767-819b-d70286373aa5\">\n",
              "      Upload widget is only available when the cell has been executed in the\n",
              "      current browser session. Please rerun this cell to enable.\n",
              "      </output>\n",
              "      <script>// Copyright 2017 Google LLC\n",
              "//\n",
              "// Licensed under the Apache License, Version 2.0 (the \"License\");\n",
              "// you may not use this file except in compliance with the License.\n",
              "// You may obtain a copy of the License at\n",
              "//\n",
              "//      http://www.apache.org/licenses/LICENSE-2.0\n",
              "//\n",
              "// Unless required by applicable law or agreed to in writing, software\n",
              "// distributed under the License is distributed on an \"AS IS\" BASIS,\n",
              "// WITHOUT WARRANTIES OR CONDITIONS OF ANY KIND, either express or implied.\n",
              "// See the License for the specific language governing permissions and\n",
              "// limitations under the License.\n",
              "\n",
              "/**\n",
              " * @fileoverview Helpers for google.colab Python module.\n",
              " */\n",
              "(function(scope) {\n",
              "function span(text, styleAttributes = {}) {\n",
              "  const element = document.createElement('span');\n",
              "  element.textContent = text;\n",
              "  for (const key of Object.keys(styleAttributes)) {\n",
              "    element.style[key] = styleAttributes[key];\n",
              "  }\n",
              "  return element;\n",
              "}\n",
              "\n",
              "// Max number of bytes which will be uploaded at a time.\n",
              "const MAX_PAYLOAD_SIZE = 100 * 1024;\n",
              "\n",
              "function _uploadFiles(inputId, outputId) {\n",
              "  const steps = uploadFilesStep(inputId, outputId);\n",
              "  const outputElement = document.getElementById(outputId);\n",
              "  // Cache steps on the outputElement to make it available for the next call\n",
              "  // to uploadFilesContinue from Python.\n",
              "  outputElement.steps = steps;\n",
              "\n",
              "  return _uploadFilesContinue(outputId);\n",
              "}\n",
              "\n",
              "// This is roughly an async generator (not supported in the browser yet),\n",
              "// where there are multiple asynchronous steps and the Python side is going\n",
              "// to poll for completion of each step.\n",
              "// This uses a Promise to block the python side on completion of each step,\n",
              "// then passes the result of the previous step as the input to the next step.\n",
              "function _uploadFilesContinue(outputId) {\n",
              "  const outputElement = document.getElementById(outputId);\n",
              "  const steps = outputElement.steps;\n",
              "\n",
              "  const next = steps.next(outputElement.lastPromiseValue);\n",
              "  return Promise.resolve(next.value.promise).then((value) => {\n",
              "    // Cache the last promise value to make it available to the next\n",
              "    // step of the generator.\n",
              "    outputElement.lastPromiseValue = value;\n",
              "    return next.value.response;\n",
              "  });\n",
              "}\n",
              "\n",
              "/**\n",
              " * Generator function which is called between each async step of the upload\n",
              " * process.\n",
              " * @param {string} inputId Element ID of the input file picker element.\n",
              " * @param {string} outputId Element ID of the output display.\n",
              " * @return {!Iterable<!Object>} Iterable of next steps.\n",
              " */\n",
              "function* uploadFilesStep(inputId, outputId) {\n",
              "  const inputElement = document.getElementById(inputId);\n",
              "  inputElement.disabled = false;\n",
              "\n",
              "  const outputElement = document.getElementById(outputId);\n",
              "  outputElement.innerHTML = '';\n",
              "\n",
              "  const pickedPromise = new Promise((resolve) => {\n",
              "    inputElement.addEventListener('change', (e) => {\n",
              "      resolve(e.target.files);\n",
              "    });\n",
              "  });\n",
              "\n",
              "  const cancel = document.createElement('button');\n",
              "  inputElement.parentElement.appendChild(cancel);\n",
              "  cancel.textContent = 'Cancel upload';\n",
              "  const cancelPromise = new Promise((resolve) => {\n",
              "    cancel.onclick = () => {\n",
              "      resolve(null);\n",
              "    };\n",
              "  });\n",
              "\n",
              "  // Wait for the user to pick the files.\n",
              "  const files = yield {\n",
              "    promise: Promise.race([pickedPromise, cancelPromise]),\n",
              "    response: {\n",
              "      action: 'starting',\n",
              "    }\n",
              "  };\n",
              "\n",
              "  cancel.remove();\n",
              "\n",
              "  // Disable the input element since further picks are not allowed.\n",
              "  inputElement.disabled = true;\n",
              "\n",
              "  if (!files) {\n",
              "    return {\n",
              "      response: {\n",
              "        action: 'complete',\n",
              "      }\n",
              "    };\n",
              "  }\n",
              "\n",
              "  for (const file of files) {\n",
              "    const li = document.createElement('li');\n",
              "    li.append(span(file.name, {fontWeight: 'bold'}));\n",
              "    li.append(span(\n",
              "        `(${file.type || 'n/a'}) - ${file.size} bytes, ` +\n",
              "        `last modified: ${\n",
              "            file.lastModifiedDate ? file.lastModifiedDate.toLocaleDateString() :\n",
              "                                    'n/a'} - `));\n",
              "    const percent = span('0% done');\n",
              "    li.appendChild(percent);\n",
              "\n",
              "    outputElement.appendChild(li);\n",
              "\n",
              "    const fileDataPromise = new Promise((resolve) => {\n",
              "      const reader = new FileReader();\n",
              "      reader.onload = (e) => {\n",
              "        resolve(e.target.result);\n",
              "      };\n",
              "      reader.readAsArrayBuffer(file);\n",
              "    });\n",
              "    // Wait for the data to be ready.\n",
              "    let fileData = yield {\n",
              "      promise: fileDataPromise,\n",
              "      response: {\n",
              "        action: 'continue',\n",
              "      }\n",
              "    };\n",
              "\n",
              "    // Use a chunked sending to avoid message size limits. See b/62115660.\n",
              "    let position = 0;\n",
              "    do {\n",
              "      const length = Math.min(fileData.byteLength - position, MAX_PAYLOAD_SIZE);\n",
              "      const chunk = new Uint8Array(fileData, position, length);\n",
              "      position += length;\n",
              "\n",
              "      const base64 = btoa(String.fromCharCode.apply(null, chunk));\n",
              "      yield {\n",
              "        response: {\n",
              "          action: 'append',\n",
              "          file: file.name,\n",
              "          data: base64,\n",
              "        },\n",
              "      };\n",
              "\n",
              "      let percentDone = fileData.byteLength === 0 ?\n",
              "          100 :\n",
              "          Math.round((position / fileData.byteLength) * 100);\n",
              "      percent.textContent = `${percentDone}% done`;\n",
              "\n",
              "    } while (position < fileData.byteLength);\n",
              "  }\n",
              "\n",
              "  // All done.\n",
              "  yield {\n",
              "    response: {\n",
              "      action: 'complete',\n",
              "    }\n",
              "  };\n",
              "}\n",
              "\n",
              "scope.google = scope.google || {};\n",
              "scope.google.colab = scope.google.colab || {};\n",
              "scope.google.colab._files = {\n",
              "  _uploadFiles,\n",
              "  _uploadFilesContinue,\n",
              "};\n",
              "})(self);\n",
              "</script> "
            ]
          },
          "metadata": {}
        },
        {
          "output_type": "stream",
          "name": "stdout",
          "text": [
            "Saving veri.csv to veri (1).csv\n"
          ]
        }
      ]
    },
    {
      "cell_type": "code",
      "source": [
        "import pandas as pd\n",
        "import numpy as np\n",
        "import matplotlib.pyplot as pyplot\n",
        "import seaborn as sns"
      ],
      "metadata": {
        "id": "YtO_Oi3Rfyk8"
      },
      "execution_count": 19,
      "outputs": []
    },
    {
      "cell_type": "code",
      "source": [
        "hamveri=pd.read_csv(\"veri.csv\")\n",
        "print(hamveri)\n",
        "veri=hamveri.copy()"
      ],
      "metadata": {
        "colab": {
          "base_uri": "https://localhost:8080/"
        },
        "id": "u2G8d6otn1uL",
        "outputId": "59525769-bf74-4360-bf66-39c9a930525b"
      },
      "execution_count": 20,
      "outputs": [
        {
          "output_type": "stream",
          "name": "stdout",
          "text": [
            "        Unnamed: 0 Invoice StockCode                          Description  \\\n",
            "0                0  536365    85123A   WHITE HANGING HEART T-LIGHT HOLDER   \n",
            "1                1  536365     71053                  WHITE METAL LANTERN   \n",
            "2                2  536365    84406B       CREAM CUPID HEARTS COAT HANGER   \n",
            "3                3  536365    84029G  KNITTED UNION FLAG HOT WATER BOTTLE   \n",
            "4                4  536365    84029E       RED WOOLLY HOTTIE WHITE HEART.   \n",
            "...            ...     ...       ...                                  ...   \n",
            "541905      541905  581587     22899         CHILDREN'S APRON DOLLY GIRL    \n",
            "541906      541906  581587     23254        CHILDRENS CUTLERY DOLLY GIRL    \n",
            "541907      541907  581587     23255      CHILDRENS CUTLERY CIRCUS PARADE   \n",
            "541908      541908  581587     22138        BAKING SET 9 PIECE RETROSPOT    \n",
            "541909      541909  581587      POST                              POSTAGE   \n",
            "\n",
            "        Quantity          InvoiceDate  Price  Customer ID         Country  \n",
            "0              6  2010-12-01 08:26:00   2.55      17850.0  United Kingdom  \n",
            "1              6  2010-12-01 08:26:00   3.39      17850.0  United Kingdom  \n",
            "2              8  2010-12-01 08:26:00   2.75      17850.0  United Kingdom  \n",
            "3              6  2010-12-01 08:26:00   3.39      17850.0  United Kingdom  \n",
            "4              6  2010-12-01 08:26:00   3.39      17850.0  United Kingdom  \n",
            "...          ...                  ...    ...          ...             ...  \n",
            "541905         6  2011-12-09 12:50:00   2.10      12680.0          France  \n",
            "541906         4  2011-12-09 12:50:00   4.15      12680.0          France  \n",
            "541907         4  2011-12-09 12:50:00   4.15      12680.0          France  \n",
            "541908         3  2011-12-09 12:50:00   4.95      12680.0          France  \n",
            "541909         1  2011-12-09 12:50:00  18.00      12680.0          France  \n",
            "\n",
            "[541910 rows x 9 columns]\n"
          ]
        }
      ]
    },
    {
      "cell_type": "code",
      "source": [
        "veri.drop(veri.columns[[0]],axis=1,inplace=True)\n",
        "print(veri.head())"
      ],
      "metadata": {
        "colab": {
          "base_uri": "https://localhost:8080/"
        },
        "id": "LX7-OA9rCuzH",
        "outputId": "4cfe40e8-6e5f-4f13-9633-a3ec85148909"
      },
      "execution_count": 21,
      "outputs": [
        {
          "output_type": "stream",
          "name": "stdout",
          "text": [
            "  Invoice StockCode                          Description  Quantity  \\\n",
            "0  536365    85123A   WHITE HANGING HEART T-LIGHT HOLDER         6   \n",
            "1  536365     71053                  WHITE METAL LANTERN         6   \n",
            "2  536365    84406B       CREAM CUPID HEARTS COAT HANGER         8   \n",
            "3  536365    84029G  KNITTED UNION FLAG HOT WATER BOTTLE         6   \n",
            "4  536365    84029E       RED WOOLLY HOTTIE WHITE HEART.         6   \n",
            "\n",
            "           InvoiceDate  Price  Customer ID         Country  \n",
            "0  2010-12-01 08:26:00   2.55      17850.0  United Kingdom  \n",
            "1  2010-12-01 08:26:00   3.39      17850.0  United Kingdom  \n",
            "2  2010-12-01 08:26:00   2.75      17850.0  United Kingdom  \n",
            "3  2010-12-01 08:26:00   3.39      17850.0  United Kingdom  \n",
            "4  2010-12-01 08:26:00   3.39      17850.0  United Kingdom  \n"
          ]
        }
      ]
    },
    {
      "cell_type": "code",
      "source": [
        "veri.rename(columns={\"Invoice\":\"Fatura No\",\"StockCode\":\"Stok Kodu\",\"Description\":\"Ürün Adı\",\"Quantity\":\"Adet\",\"InvoiceDate\":\"Fatura Tarihi\",\"Price\":\"Birim Fiyat\",\"Customer ID\":\"Müşteri ID\",\"Country\":\"Ülke\"},inplace=True)\n",
        "print(veri.head())"
      ],
      "metadata": {
        "colab": {
          "base_uri": "https://localhost:8080/"
        },
        "id": "df2_c3I-DmlE",
        "outputId": "32452e9b-e2a9-4451-fb1b-82b9e9711ad9"
      },
      "execution_count": 22,
      "outputs": [
        {
          "output_type": "stream",
          "name": "stdout",
          "text": [
            "  Fatura No Stok Kodu                             Ürün Adı  Adet  \\\n",
            "0    536365    85123A   WHITE HANGING HEART T-LIGHT HOLDER     6   \n",
            "1    536365     71053                  WHITE METAL LANTERN     6   \n",
            "2    536365    84406B       CREAM CUPID HEARTS COAT HANGER     8   \n",
            "3    536365    84029G  KNITTED UNION FLAG HOT WATER BOTTLE     6   \n",
            "4    536365    84029E       RED WOOLLY HOTTIE WHITE HEART.     6   \n",
            "\n",
            "         Fatura Tarihi  Birim Fiyat  Müşteri ID            Ülke  \n",
            "0  2010-12-01 08:26:00         2.55     17850.0  United Kingdom  \n",
            "1  2010-12-01 08:26:00         3.39     17850.0  United Kingdom  \n",
            "2  2010-12-01 08:26:00         2.75     17850.0  United Kingdom  \n",
            "3  2010-12-01 08:26:00         3.39     17850.0  United Kingdom  \n",
            "4  2010-12-01 08:26:00         3.39     17850.0  United Kingdom  \n"
          ]
        }
      ]
    },
    {
      "cell_type": "code",
      "source": [
        "veri[\"Toplam Tutar\"]=veri[\"Birim Fiyat\"]*veri[\"Adet\"]\n",
        "print(veri.head())"
      ],
      "metadata": {
        "colab": {
          "base_uri": "https://localhost:8080/"
        },
        "id": "pWz_CXtcFxMz",
        "outputId": "2b0c079f-6e94-4dae-bd6b-7479f1cd0911"
      },
      "execution_count": 23,
      "outputs": [
        {
          "output_type": "stream",
          "name": "stdout",
          "text": [
            "  Fatura No Stok Kodu                             Ürün Adı  Adet  \\\n",
            "0    536365    85123A   WHITE HANGING HEART T-LIGHT HOLDER     6   \n",
            "1    536365     71053                  WHITE METAL LANTERN     6   \n",
            "2    536365    84406B       CREAM CUPID HEARTS COAT HANGER     8   \n",
            "3    536365    84029G  KNITTED UNION FLAG HOT WATER BOTTLE     6   \n",
            "4    536365    84029E       RED WOOLLY HOTTIE WHITE HEART.     6   \n",
            "\n",
            "         Fatura Tarihi  Birim Fiyat  Müşteri ID            Ülke  Toplam Tutar  \n",
            "0  2010-12-01 08:26:00         2.55     17850.0  United Kingdom         15.30  \n",
            "1  2010-12-01 08:26:00         3.39     17850.0  United Kingdom         20.34  \n",
            "2  2010-12-01 08:26:00         2.75     17850.0  United Kingdom         22.00  \n",
            "3  2010-12-01 08:26:00         3.39     17850.0  United Kingdom         20.34  \n",
            "4  2010-12-01 08:26:00         3.39     17850.0  United Kingdom         20.34  \n"
          ]
        }
      ]
    },
    {
      "cell_type": "code",
      "source": [
        "veri[\"Fatura Tarihi\"]=pd.to_datetime((veri[\"Fatura Tarihi\"]))\n",
        "print(veri.info())"
      ],
      "metadata": {
        "colab": {
          "base_uri": "https://localhost:8080/"
        },
        "id": "xWYCOJFeTzQC",
        "outputId": "7017ce88-2c21-4a34-8118-1aa1c2a55ded"
      },
      "execution_count": 24,
      "outputs": [
        {
          "output_type": "stream",
          "name": "stdout",
          "text": [
            "<class 'pandas.core.frame.DataFrame'>\n",
            "RangeIndex: 541910 entries, 0 to 541909\n",
            "Data columns (total 9 columns):\n",
            " #   Column         Non-Null Count   Dtype         \n",
            "---  ------         --------------   -----         \n",
            " 0   Fatura No      541910 non-null  object        \n",
            " 1   Stok Kodu      541910 non-null  object        \n",
            " 2   Ürün Adı       540456 non-null  object        \n",
            " 3   Adet           541910 non-null  int64         \n",
            " 4   Fatura Tarihi  541910 non-null  datetime64[ns]\n",
            " 5   Birim Fiyat    541910 non-null  float64       \n",
            " 6   Müşteri ID     406830 non-null  float64       \n",
            " 7   Ülke           541910 non-null  object        \n",
            " 8   Toplam Tutar   541910 non-null  float64       \n",
            "dtypes: datetime64[ns](1), float64(3), int64(1), object(4)\n",
            "memory usage: 37.2+ MB\n",
            "None\n"
          ]
        }
      ]
    },
    {
      "cell_type": "code",
      "source": [
        "veri.drop(\"Müşteri ID\",axis=1,inplace=True)\n",
        "print(veri.head())"
      ],
      "metadata": {
        "colab": {
          "base_uri": "https://localhost:8080/"
        },
        "id": "DCI9f01iUhsR",
        "outputId": "03e55e07-98bf-4a76-e6e4-c3099723ae2d"
      },
      "execution_count": 25,
      "outputs": [
        {
          "output_type": "stream",
          "name": "stdout",
          "text": [
            "  Fatura No Stok Kodu                             Ürün Adı  Adet  \\\n",
            "0    536365    85123A   WHITE HANGING HEART T-LIGHT HOLDER     6   \n",
            "1    536365     71053                  WHITE METAL LANTERN     6   \n",
            "2    536365    84406B       CREAM CUPID HEARTS COAT HANGER     8   \n",
            "3    536365    84029G  KNITTED UNION FLAG HOT WATER BOTTLE     6   \n",
            "4    536365    84029E       RED WOOLLY HOTTIE WHITE HEART.     6   \n",
            "\n",
            "        Fatura Tarihi  Birim Fiyat            Ülke  Toplam Tutar  \n",
            "0 2010-12-01 08:26:00         2.55  United Kingdom         15.30  \n",
            "1 2010-12-01 08:26:00         3.39  United Kingdom         20.34  \n",
            "2 2010-12-01 08:26:00         2.75  United Kingdom         22.00  \n",
            "3 2010-12-01 08:26:00         3.39  United Kingdom         20.34  \n",
            "4 2010-12-01 08:26:00         3.39  United Kingdom         20.34  \n"
          ]
        }
      ]
    },
    {
      "cell_type": "code",
      "source": [
        "veri.dropna(axis=0,inplace=True)\n",
        "veri.reset_index(drop=True,inplace=True)"
      ],
      "metadata": {
        "id": "3IVsYSjQUv5u"
      },
      "execution_count": 32,
      "outputs": []
    },
    {
      "cell_type": "code",
      "source": [
        "iptal=veri[veri[\"Fatura No\"].str.contains(\"C\",na=False)]\n",
        "print(iptal)"
      ],
      "metadata": {
        "colab": {
          "base_uri": "https://localhost:8080/"
        },
        "id": "uOqtC8lxW52q",
        "outputId": "6270234f-1693-4f7c-a057-2b9021cdbd17"
      },
      "execution_count": 33,
      "outputs": [
        {
          "output_type": "stream",
          "name": "stdout",
          "text": [
            "       Fatura No Stok Kodu                          Ürün Adı  Adet  \\\n",
            "141      C536379         D                          Discount    -1   \n",
            "154      C536383    35004C   SET OF 3 COLOURED  FLYING DUCKS    -1   \n",
            "235      C536391     22556    PLASTERS IN TIN CIRCUS PARADE    -12   \n",
            "236      C536391     21984  PACK OF 12 PINK PAISLEY TISSUES    -24   \n",
            "237      C536391     21983  PACK OF 12 BLUE PAISLEY TISSUES    -24   \n",
            "...          ...       ...                               ...   ...   \n",
            "540449   C581490     23144   ZINC T-LIGHT HOLDER STARS SMALL   -11   \n",
            "541541   C581499         M                            Manual    -1   \n",
            "541715   C581568     21258        VICTORIAN SEWING BOX LARGE    -5   \n",
            "541716   C581569     84978  HANGING HEART JAR T-LIGHT HOLDER    -1   \n",
            "541717   C581569     20979     36 PENCILS TUBE RED RETROSPOT    -5   \n",
            "\n",
            "             Fatura Tarihi  Birim Fiyat            Ülke  Toplam Tutar  \n",
            "141    2010-12-01 09:41:00        27.50  United Kingdom        -27.50  \n",
            "154    2010-12-01 09:49:00         4.65  United Kingdom         -4.65  \n",
            "235    2010-12-01 10:24:00         1.65  United Kingdom        -19.80  \n",
            "236    2010-12-01 10:24:00         0.29  United Kingdom         -6.96  \n",
            "237    2010-12-01 10:24:00         0.29  United Kingdom         -6.96  \n",
            "...                    ...          ...             ...           ...  \n",
            "540449 2011-12-09 09:57:00         0.83  United Kingdom         -9.13  \n",
            "541541 2011-12-09 10:28:00       224.69  United Kingdom       -224.69  \n",
            "541715 2011-12-09 11:57:00        10.95  United Kingdom        -54.75  \n",
            "541716 2011-12-09 11:58:00         1.25  United Kingdom         -1.25  \n",
            "541717 2011-12-09 11:58:00         1.25  United Kingdom         -6.25  \n",
            "\n",
            "[9288 rows x 8 columns]\n"
          ]
        }
      ]
    },
    {
      "cell_type": "code",
      "source": [
        "iptalindex=[]\n",
        "\n",
        "for i in iptal.index:\n",
        "  iptalindex.append(i)\n",
        "\n",
        "print(len(iptalindex))"
      ],
      "metadata": {
        "colab": {
          "base_uri": "https://localhost:8080/"
        },
        "id": "m0mrkUeAbizK",
        "outputId": "145024f5-c00c-4525-9dfa-adb3c86e555d"
      },
      "execution_count": 34,
      "outputs": [
        {
          "output_type": "stream",
          "name": "stdout",
          "text": [
            "9288\n"
          ]
        }
      ]
    }
  ],
  "metadata": {
    "colab": {
      "provenance": [],
      "include_colab_link": true
    },
    "kernelspec": {
      "display_name": "Python 3",
      "name": "python3"
    }
  },
  "nbformat": 4,
  "nbformat_minor": 0
}